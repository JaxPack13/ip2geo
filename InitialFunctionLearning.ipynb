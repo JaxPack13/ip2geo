{
  "nbformat": 4,
  "nbformat_minor": 0,
  "metadata": {
    "colab": {
      "name": "Untitled1.ipynb",
      "provenance": [],
      "authorship_tag": "ABX9TyMywlHzjT2nLwRjy1DLdSVq",
      "include_colab_link": true
    },
    "kernelspec": {
      "name": "python3",
      "display_name": "Python 3"
    },
    "language_info": {
      "name": "python"
    }
  },
  "cells": [
    {
      "cell_type": "markdown",
      "metadata": {
        "id": "view-in-github",
        "colab_type": "text"
      },
      "source": [
        "<a href=\"https://colab.research.google.com/github/JaxPack13/ip2geo/blob/master/InitialFunctionLearning.ipynb\" target=\"_parent\"><img src=\"https://colab.research.google.com/assets/colab-badge.svg\" alt=\"Open In Colab\"/></a>"
      ]
    },
    {
      "cell_type": "markdown",
      "metadata": {
        "id": "gAd613cYSDp1"
      },
      "source": [
        "**Introduction to Statements**"
      ]
    },
    {
      "cell_type": "code",
      "metadata": {
        "colab": {
          "base_uri": "https://localhost:8080/"
        },
        "id": "bvxDU9poR8jx",
        "outputId": "4c847d39-e09e-4a29-88d4-834fd03851ba"
      },
      "source": [
        "print(\"Hello World\")"
      ],
      "execution_count": 1,
      "outputs": [
        {
          "output_type": "stream",
          "name": "stdout",
          "text": [
            "Hello World\n"
          ]
        }
      ]
    },
    {
      "cell_type": "markdown",
      "metadata": {
        "id": "SL1Ac6vzSXZS"
      },
      "source": [
        "**Defining Variables**"
      ]
    },
    {
      "cell_type": "code",
      "metadata": {
        "id": "stnASb8NSVo7"
      },
      "source": [
        "x = 1"
      ],
      "execution_count": 2,
      "outputs": []
    },
    {
      "cell_type": "code",
      "metadata": {
        "id": "Y_ARYwBHShky"
      },
      "source": [
        ""
      ],
      "execution_count": null,
      "outputs": []
    },
    {
      "cell_type": "markdown",
      "metadata": {
        "id": "fmMyNIA6Sihd"
      },
      "source": [
        "**More interesting facts about Statements**"
      ]
    },
    {
      "cell_type": "code",
      "metadata": {
        "colab": {
          "base_uri": "https://localhost:8080/"
        },
        "id": "aL_6m4oESoYi",
        "outputId": "22a7d07c-be22-47f3-c5b5-8108d0dcc4ab"
      },
      "source": [
        "var = 1\n",
        "var2 = 2\n",
        "var + var2"
      ],
      "execution_count": 3,
      "outputs": [
        {
          "output_type": "execute_result",
          "data": {
            "text/plain": [
              "3"
            ]
          },
          "metadata": {},
          "execution_count": 3
        }
      ]
    },
    {
      "cell_type": "markdown",
      "metadata": {
        "id": "rMoOPj4PSvHg"
      },
      "source": [
        "**Loops**"
      ]
    },
    {
      "cell_type": "code",
      "metadata": {
        "colab": {
          "base_uri": "https://localhost:8080/"
        },
        "id": "e_KCHTloSyR7",
        "outputId": "eea9ecdb-a8a4-4158-8611-13aab98fa64e"
      },
      "source": [
        "for i in range(10):\n",
        "    print(f\"This is the loop number: {i}\")"
      ],
      "execution_count": 4,
      "outputs": [
        {
          "output_type": "stream",
          "name": "stdout",
          "text": [
            "This is the loop number: 0\n",
            "This is the loop number: 1\n",
            "This is the loop number: 2\n",
            "This is the loop number: 3\n",
            "This is the loop number: 4\n",
            "This is the loop number: 5\n",
            "This is the loop number: 6\n",
            "This is the loop number: 7\n",
            "This is the loop number: 8\n",
            "This is the loop number: 9\n"
          ]
        }
      ]
    },
    {
      "cell_type": "markdown",
      "metadata": {
        "id": "TWjsh17MS3GZ"
      },
      "source": [
        "**List**"
      ]
    },
    {
      "cell_type": "code",
      "metadata": {
        "id": "eQOd1qniS5fJ"
      },
      "source": [
        "my_basket = [\"eggs\", \"butter\", \"apple\"]"
      ],
      "execution_count": 5,
      "outputs": []
    },
    {
      "cell_type": "code",
      "metadata": {
        "colab": {
          "base_uri": "https://localhost:8080/"
        },
        "id": "Z4_N30xUS9H_",
        "outputId": "9c252d20-88ba-4fd0-e5cb-54364ed4fb9f"
      },
      "source": [
        "len(my_basket)"
      ],
      "execution_count": 6,
      "outputs": [
        {
          "output_type": "execute_result",
          "data": {
            "text/plain": [
              "3"
            ]
          },
          "metadata": {},
          "execution_count": 6
        }
      ]
    },
    {
      "cell_type": "code",
      "metadata": {
        "colab": {
          "base_uri": "https://localhost:8080/"
        },
        "id": "T6AYJX4aTA35",
        "outputId": "f3a9fe98-993a-4f43-89ea-8663201d06c5"
      },
      "source": [
        "for food in my_basket:\n",
        "    print(f\"I am hungry and I am going to eat: {food}\")"
      ],
      "execution_count": 7,
      "outputs": [
        {
          "output_type": "stream",
          "name": "stdout",
          "text": [
            "I am hungry and I am going to eat: eggs\n",
            "I am hungry and I am going to eat: butter\n",
            "I am hungry and I am going to eat: apple\n"
          ]
        }
      ]
    },
    {
      "cell_type": "markdown",
      "metadata": {
        "id": "DeTYehu6TEtJ"
      },
      "source": [
        "**Dictionary**"
      ]
    },
    {
      "cell_type": "code",
      "metadata": {
        "id": "6peJLOGrTHrO"
      },
      "source": [
        "my_dict = {\"one\": \"apple\", \"two\": \"eggs\", \"three\": \"butter\"}"
      ],
      "execution_count": 8,
      "outputs": []
    },
    {
      "cell_type": "code",
      "metadata": {
        "colab": {
          "base_uri": "https://localhost:8080/"
        },
        "id": "yVkr-l7fTKwv",
        "outputId": "03d4b193-c050-4706-d061-6b7c90b72503"
      },
      "source": [
        "len(my_dict)"
      ],
      "execution_count": 9,
      "outputs": [
        {
          "output_type": "execute_result",
          "data": {
            "text/plain": [
              "3"
            ]
          },
          "metadata": {},
          "execution_count": 9
        }
      ]
    },
    {
      "cell_type": "code",
      "metadata": {
        "colab": {
          "base_uri": "https://localhost:8080/"
        },
        "id": "Hbj2ng5fTPzL",
        "outputId": "ed16e6c1-7605-46b6-86d2-f1a0d2534150"
      },
      "source": [
        "my_dict.keys()"
      ],
      "execution_count": 10,
      "outputs": [
        {
          "output_type": "execute_result",
          "data": {
            "text/plain": [
              "dict_keys(['one', 'two', 'three'])"
            ]
          },
          "metadata": {},
          "execution_count": 10
        }
      ]
    },
    {
      "cell_type": "code",
      "metadata": {
        "colab": {
          "base_uri": "https://localhost:8080/",
          "height": 35
        },
        "id": "OzP5SgRITV__",
        "outputId": "75cb8221-3dcf-4cce-92ef-174ef06f4c5a"
      },
      "source": [
        "my_dict[\"one\"]"
      ],
      "execution_count": 11,
      "outputs": [
        {
          "output_type": "execute_result",
          "data": {
            "application/vnd.google.colaboratory.intrinsic+json": {
              "type": "string"
            },
            "text/plain": [
              "'apple'"
            ]
          },
          "metadata": {},
          "execution_count": 11
        }
      ]
    },
    {
      "cell_type": "markdown",
      "metadata": {
        "id": "8fJYk0ILTXIa"
      },
      "source": [
        "O(1) Lookup\n"
      ]
    },
    {
      "cell_type": "code",
      "metadata": {
        "colab": {
          "base_uri": "https://localhost:8080/"
        },
        "id": "d80x5sc7Tf_R",
        "outputId": "170b172e-3858-4c3e-8cb0-29a08abc1612"
      },
      "source": [
        "\"one\" in my_dict"
      ],
      "execution_count": 12,
      "outputs": [
        {
          "output_type": "execute_result",
          "data": {
            "text/plain": [
              "True"
            ]
          },
          "metadata": {},
          "execution_count": 12
        }
      ]
    },
    {
      "cell_type": "code",
      "metadata": {
        "colab": {
          "base_uri": "https://localhost:8080/"
        },
        "id": "tALt5q5KTjWZ",
        "outputId": "33401594-c242-4693-9bd3-9f2f4e883d13"
      },
      "source": [
        "\"five\" in my_dict"
      ],
      "execution_count": 13,
      "outputs": [
        {
          "output_type": "execute_result",
          "data": {
            "text/plain": [
              "False"
            ]
          },
          "metadata": {},
          "execution_count": 13
        }
      ]
    },
    {
      "cell_type": "code",
      "metadata": {
        "colab": {
          "base_uri": "https://localhost:8080/"
        },
        "id": "MpwPtvQXTmjd",
        "outputId": "5b2413ab-a879-4c89-f5c7-ab43f27b5ab6"
      },
      "source": [
        "my_dict.values()"
      ],
      "execution_count": 14,
      "outputs": [
        {
          "output_type": "execute_result",
          "data": {
            "text/plain": [
              "dict_values(['apple', 'eggs', 'butter'])"
            ]
          },
          "metadata": {},
          "execution_count": 14
        }
      ]
    },
    {
      "cell_type": "markdown",
      "metadata": {
        "id": "D86A7m5DTpNm"
      },
      "source": [
        "Looping with dictionary"
      ]
    },
    {
      "cell_type": "code",
      "metadata": {
        "colab": {
          "base_uri": "https://localhost:8080/"
        },
        "id": "LSHdv1gCTn6Z",
        "outputId": "80499c63-a81f-4d8d-d936-95aaaa614496"
      },
      "source": [
        "for number, food in my_dict.items():\n",
        "    print(f\"This is {number}: This is food {food}\")"
      ],
      "execution_count": 15,
      "outputs": [
        {
          "output_type": "stream",
          "name": "stdout",
          "text": [
            "This is one: This is food apple\n",
            "This is two: This is food eggs\n",
            "This is three: This is food butter\n"
          ]
        }
      ]
    },
    {
      "cell_type": "code",
      "metadata": {
        "id": "XEu_gMW-Tuzj"
      },
      "source": [
        ""
      ],
      "execution_count": null,
      "outputs": []
    },
    {
      "cell_type": "markdown",
      "metadata": {
        "id": "0jQviJmuTv25"
      },
      "source": [
        "**Math Statements**\n",
        "Use Python as a calculator to learn it"
      ]
    },
    {
      "cell_type": "code",
      "metadata": {
        "colab": {
          "base_uri": "https://localhost:8080/"
        },
        "id": "sivyeDtFT2gs",
        "outputId": "da5eec62-d640-42ae-a34e-ea1786770430"
      },
      "source": [
        "1+1"
      ],
      "execution_count": 16,
      "outputs": [
        {
          "output_type": "execute_result",
          "data": {
            "text/plain": [
              "2"
            ]
          },
          "metadata": {},
          "execution_count": 16
        }
      ]
    },
    {
      "cell_type": "code",
      "metadata": {
        "colab": {
          "base_uri": "https://localhost:8080/"
        },
        "id": "0kDpbah8T4_K",
        "outputId": "bb93c195-0244-4134-fc23-f9cf729f840a"
      },
      "source": [
        "100*.20"
      ],
      "execution_count": 17,
      "outputs": [
        {
          "output_type": "execute_result",
          "data": {
            "text/plain": [
              "20.0"
            ]
          },
          "metadata": {},
          "execution_count": 17
        }
      ]
    },
    {
      "cell_type": "code",
      "metadata": {
        "colab": {
          "base_uri": "https://localhost:8080/"
        },
        "id": "ETJcZ26xT7ri",
        "outputId": "683aba80-7d7c-4e63-cebb-4e6a4c091dea"
      },
      "source": [
        "2**2"
      ],
      "execution_count": 18,
      "outputs": [
        {
          "output_type": "execute_result",
          "data": {
            "text/plain": [
              "4"
            ]
          },
          "metadata": {},
          "execution_count": 18
        }
      ]
    },
    {
      "cell_type": "code",
      "metadata": {
        "id": "k05sVF5kT9lS"
      },
      "source": [
        ""
      ],
      "execution_count": null,
      "outputs": []
    },
    {
      "cell_type": "markdown",
      "metadata": {
        "id": "DyMT8WeYT-aX"
      },
      "source": [
        "Real-world math problem"
      ]
    },
    {
      "cell_type": "code",
      "metadata": {
        "id": "ibUKtYm9UBgS"
      },
      "source": [
        "expenses = [5, 90, 200, 2000]"
      ],
      "execution_count": 19,
      "outputs": []
    },
    {
      "cell_type": "code",
      "metadata": {
        "colab": {
          "base_uri": "https://localhost:8080/"
        },
        "id": "B-h7vwoyUFw5",
        "outputId": "dded08b3-ad1e-4f84-eb7c-148e8c33b19f"
      },
      "source": [
        "total = 0\n",
        "for expense in expenses:\n",
        "    total += expense\n",
        "    print(f\"Adding the following expenses: TOTAL {total}, EXPENSE {expense}\")"
      ],
      "execution_count": 20,
      "outputs": [
        {
          "output_type": "stream",
          "name": "stdout",
          "text": [
            "Adding the following expenses: TOTAL 5, EXPENSE 5\n",
            "Adding the following expenses: TOTAL 95, EXPENSE 90\n",
            "Adding the following expenses: TOTAL 295, EXPENSE 200\n",
            "Adding the following expenses: TOTAL 2295, EXPENSE 2000\n"
          ]
        }
      ]
    }
  ]
}